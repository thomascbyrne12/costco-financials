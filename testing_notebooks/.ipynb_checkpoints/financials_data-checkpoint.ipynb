{
 "cells": [
  {
   "cell_type": "code",
   "execution_count": 1,
   "metadata": {},
   "outputs": [],
   "source": [
    "# Imports dependencies\n",
    "\n",
    "import pandas as pd\n",
    "import numpy as np\n",
    "import matplotlib.pyplot as plt"
   ]
  },
  {
   "cell_type": "code",
   "execution_count": 2,
   "metadata": {
    "scrolled": true
   },
   "outputs": [
    {
     "data": {
      "text/html": [
       "<div>\n",
       "<style scoped>\n",
       "    .dataframe tbody tr th:only-of-type {\n",
       "        vertical-align: middle;\n",
       "    }\n",
       "\n",
       "    .dataframe tbody tr th {\n",
       "        vertical-align: top;\n",
       "    }\n",
       "\n",
       "    .dataframe thead th {\n",
       "        text-align: right;\n",
       "    }\n",
       "</style>\n",
       "<table border=\"1\" class=\"dataframe\">\n",
       "  <thead>\n",
       "    <tr style=\"text-align: right;\">\n",
       "      <th></th>\n",
       "      <th>2010</th>\n",
       "      <th>2011</th>\n",
       "      <th>2012</th>\n",
       "      <th>2013</th>\n",
       "      <th>2014</th>\n",
       "      <th>2015</th>\n",
       "      <th>2016</th>\n",
       "      <th>2017</th>\n",
       "      <th>2018</th>\n",
       "      <th>2019</th>\n",
       "    </tr>\n",
       "    <tr>\n",
       "      <th>Value</th>\n",
       "      <th></th>\n",
       "      <th></th>\n",
       "      <th></th>\n",
       "      <th></th>\n",
       "      <th></th>\n",
       "      <th></th>\n",
       "      <th></th>\n",
       "      <th></th>\n",
       "      <th></th>\n",
       "      <th></th>\n",
       "    </tr>\n",
       "  </thead>\n",
       "  <tbody>\n",
       "    <tr>\n",
       "      <th>Revenue</th>\n",
       "      <td>77946</td>\n",
       "      <td>88915</td>\n",
       "      <td>99137</td>\n",
       "      <td>105156</td>\n",
       "      <td>112640</td>\n",
       "      <td>116199</td>\n",
       "      <td>118719</td>\n",
       "      <td>129025</td>\n",
       "      <td>141576</td>\n",
       "      <td>152703</td>\n",
       "    </tr>\n",
       "    <tr>\n",
       "      <th>Cost of revenue</th>\n",
       "      <td>-67995</td>\n",
       "      <td>-77739</td>\n",
       "      <td>-86823</td>\n",
       "      <td>-91948</td>\n",
       "      <td>-98458</td>\n",
       "      <td>-101065</td>\n",
       "      <td>-102901</td>\n",
       "      <td>-111882</td>\n",
       "      <td>-123152</td>\n",
       "      <td>-132886</td>\n",
       "    </tr>\n",
       "    <tr>\n",
       "      <th>Gross Profit</th>\n",
       "      <td>9951</td>\n",
       "      <td>11176</td>\n",
       "      <td>12314</td>\n",
       "      <td>13208</td>\n",
       "      <td>14182</td>\n",
       "      <td>15134</td>\n",
       "      <td>15818</td>\n",
       "      <td>17143</td>\n",
       "      <td>18424</td>\n",
       "      <td>19817</td>\n",
       "    </tr>\n",
       "    <tr>\n",
       "      <th>Operating Expenses</th>\n",
       "      <td>-7874</td>\n",
       "      <td>-8737</td>\n",
       "      <td>-9555</td>\n",
       "      <td>-10155</td>\n",
       "      <td>-10962</td>\n",
       "      <td>-11510</td>\n",
       "      <td>-12146</td>\n",
       "      <td>-13032</td>\n",
       "      <td>-13944</td>\n",
       "      <td>-15080</td>\n",
       "    </tr>\n",
       "    <tr>\n",
       "      <th>Operating Income (Loss)</th>\n",
       "      <td>2077</td>\n",
       "      <td>2439</td>\n",
       "      <td>2759</td>\n",
       "      <td>3053</td>\n",
       "      <td>3220</td>\n",
       "      <td>3624</td>\n",
       "      <td>3672</td>\n",
       "      <td>4111</td>\n",
       "      <td>4480</td>\n",
       "      <td>4737</td>\n",
       "    </tr>\n",
       "  </tbody>\n",
       "</table>\n",
       "</div>"
      ],
      "text/plain": [
       "                          2010   2011   2012    2013    2014    2015    2016  \\\n",
       "Value                                                                          \n",
       "Revenue                  77946  88915  99137  105156  112640  116199  118719   \n",
       "Cost of revenue         -67995 -77739 -86823  -91948  -98458 -101065 -102901   \n",
       "Gross Profit              9951  11176  12314   13208   14182   15134   15818   \n",
       "Operating Expenses       -7874  -8737  -9555  -10155  -10962  -11510  -12146   \n",
       "Operating Income (Loss)   2077   2439   2759    3053    3220    3624    3672   \n",
       "\n",
       "                           2017    2018    2019  \n",
       "Value                                            \n",
       "Revenue                  129025  141576  152703  \n",
       "Cost of revenue         -111882 -123152 -132886  \n",
       "Gross Profit              17143   18424   19817  \n",
       "Operating Expenses       -13032  -13944  -15080  \n",
       "Operating Income (Loss)    4111    4480    4737  "
      ]
     },
     "execution_count": 2,
     "metadata": {},
     "output_type": "execute_result"
    }
   ],
   "source": [
    "# Imports Resource csv files as DataFrames\n",
    "\n",
    "cash_flow = pd.read_csv('Resources/cash_flow.csv', index_col = 'Value')\n",
    "balance_sheet = pd.read_csv('Resources/balance_sheet.csv', index_col = 'Value')\n",
    "profit_loss = pd.read_csv('Resources/profit_loss.csv', index_col = 'Value')\n",
    "profit_loss.head()"
   ]
  },
  {
   "cell_type": "code",
   "execution_count": 3,
   "metadata": {},
   "outputs": [
    {
     "data": {
      "text/plain": [
       "2010    1.163470\n",
       "2011    1.137427\n",
       "2012    1.103263\n",
       "2013    1.194840\n",
       "2014    1.220372\n",
       "dtype: float64"
      ]
     },
     "execution_count": 3,
     "metadata": {},
     "output_type": "execute_result"
    }
   ],
   "source": [
    "# Calculates Working Capital Ratio\n",
    "\n",
    "total_ca = balance_sheet.loc['Total Current Assets'].astype(int)\n",
    "total_cl = balance_sheet.loc['Total Current Liabilities'].astype(int)\n",
    "\n",
    "working_capital = total_ca / total_cl\n",
    "working_capital.head()"
   ]
  },
  {
   "cell_type": "code",
   "execution_count": 4,
   "metadata": {},
   "outputs": [
    {
     "data": {
      "text/plain": [
       "2010    0.603200\n",
       "2011    0.586556\n",
       "2012    0.524470\n",
       "2013    0.599381\n",
       "2014    0.633639\n",
       "dtype: float64"
      ]
     },
     "execution_count": 4,
     "metadata": {},
     "output_type": "execute_result"
    }
   ],
   "source": [
    "# Calculates Quick Ratio\n",
    "\n",
    "inventories = balance_sheet.loc['Inventories'].astype(int)\n",
    "\n",
    "quick_ratio = (total_ca - inventories) / total_cl\n",
    "quick_ratio.head()"
   ]
  },
  {
   "cell_type": "code",
   "execution_count": 5,
   "metadata": {},
   "outputs": [
    {
     "data": {
      "text/plain": [
       "2010    0.198262\n",
       "2011    0.171240\n",
       "2012    0.110321\n",
       "2013    0.453869\n",
       "2014    0.406952\n",
       "dtype: float64"
      ]
     },
     "execution_count": 5,
     "metadata": {},
     "output_type": "execute_result"
    }
   ],
   "source": [
    "# Calculates Debt to Equity Ratio\n",
    "\n",
    "# Replaces null values with zeroes\n",
    "balance_sheet = balance_sheet.replace(np.nan, 0)\n",
    "\n",
    "short_debt = balance_sheet.loc['Short Term Debt'].astype(int)\n",
    "long_debt = balance_sheet.loc['Long Term Debt'].astype(int)\n",
    "equity = balance_sheet.loc['Total Equity'].astype(int)\n",
    "\n",
    "debt_to_equity = (short_debt + long_debt) / equity\n",
    "debt_to_equity.head()"
   ]
  },
  {
   "cell_type": "code",
   "execution_count": 6,
   "metadata": {},
   "outputs": [
    {
     "data": {
      "text/plain": [
       "2010    3.013874\n",
       "2011    3.373598\n",
       "2012    3.952136\n",
       "2013    4.666736\n",
       "2014    4.701184\n",
       "dtype: float64"
      ]
     },
     "execution_count": 6,
     "metadata": {},
     "output_type": "execute_result"
    }
   ],
   "source": [
    "# Calculates Earnings Per Share\n",
    "\n",
    "profit_eps = profit_loss.loc['Net Income Available to Common Shareholders'].astype(int)\n",
    "\n",
    "# Shares taken from seperate data source, outstanding shares for end of year\n",
    "years = ('2010', '2011', '2012', '2013', '2014', '2015', '2016', '2017', '2018', '2019')\n",
    "shares = pd.Series((432333947, 433365150, 432424379, 436922037, 437762068, 437406636, 437126569,\\\n",
    "                    436989606, 438208376, 439656950), years)\n",
    "\n",
    "\n",
    "eps = profit_eps / shares\n",
    "\n",
    "# Adjustment made since shares data is not rounded\n",
    "eps = eps * 1000000\n",
    "eps.head()"
   ]
  },
  {
   "cell_type": "code",
   "execution_count": 7,
   "metadata": {},
   "outputs": [
    {
     "data": {
      "text/plain": [
       "2010    20.130238\n",
       "2011    23.340063\n",
       "2012    23.293732\n",
       "2013    23.802501\n",
       "2014    25.861571\n",
       "dtype: float64"
      ]
     },
     "execution_count": 7,
     "metadata": {},
     "output_type": "execute_result"
    }
   ],
   "source": [
    "# Calculates Price to Earnings Ratio\n",
    "\n",
    "# Yearly Average Stock Price also taken from seperate data set\n",
    "years = ('2010', '2011', '2012', '2013', '2014', '2015', '2016', '2017', '2018', '2019')\n",
    "yavg_price = pd.Series((60.67, 78.74, 92.06, 111.08, 121.58, 147.84, 154.35, 167.41, 208.81, 262.62), years)\n",
    "\n",
    "p_to_e = yavg_price / eps\n",
    "p_to_e.head()"
   ]
  },
  {
   "cell_type": "code",
   "execution_count": 8,
   "metadata": {},
   "outputs": [
    {
     "data": {
      "text/html": [
       "<div>\n",
       "<style scoped>\n",
       "    .dataframe tbody tr th:only-of-type {\n",
       "        vertical-align: middle;\n",
       "    }\n",
       "\n",
       "    .dataframe tbody tr th {\n",
       "        vertical-align: top;\n",
       "    }\n",
       "\n",
       "    .dataframe thead th {\n",
       "        text-align: right;\n",
       "    }\n",
       "</style>\n",
       "<table border=\"1\" class=\"dataframe\">\n",
       "  <thead>\n",
       "    <tr style=\"text-align: right;\">\n",
       "      <th></th>\n",
       "      <th>Working Capital</th>\n",
       "      <th>Quick Ratio</th>\n",
       "      <th>Debt to Equity</th>\n",
       "      <th>EPS</th>\n",
       "      <th>Price to Earnings</th>\n",
       "    </tr>\n",
       "  </thead>\n",
       "  <tbody>\n",
       "    <tr>\n",
       "      <th>2010</th>\n",
       "      <td>1.163470</td>\n",
       "      <td>0.603200</td>\n",
       "      <td>0.198262</td>\n",
       "      <td>3.013874</td>\n",
       "      <td>20.130238</td>\n",
       "    </tr>\n",
       "    <tr>\n",
       "      <th>2011</th>\n",
       "      <td>1.137427</td>\n",
       "      <td>0.586556</td>\n",
       "      <td>0.171240</td>\n",
       "      <td>3.373598</td>\n",
       "      <td>23.340063</td>\n",
       "    </tr>\n",
       "    <tr>\n",
       "      <th>2012</th>\n",
       "      <td>1.103263</td>\n",
       "      <td>0.524470</td>\n",
       "      <td>0.110321</td>\n",
       "      <td>3.952136</td>\n",
       "      <td>23.293732</td>\n",
       "    </tr>\n",
       "    <tr>\n",
       "      <th>2013</th>\n",
       "      <td>1.194840</td>\n",
       "      <td>0.599381</td>\n",
       "      <td>0.453869</td>\n",
       "      <td>4.666736</td>\n",
       "      <td>23.802501</td>\n",
       "    </tr>\n",
       "    <tr>\n",
       "      <th>2014</th>\n",
       "      <td>1.220372</td>\n",
       "      <td>0.633639</td>\n",
       "      <td>0.406952</td>\n",
       "      <td>4.701184</td>\n",
       "      <td>25.861571</td>\n",
       "    </tr>\n",
       "  </tbody>\n",
       "</table>\n",
       "</div>"
      ],
      "text/plain": [
       "      Working Capital  Quick Ratio  Debt to Equity       EPS  \\\n",
       "2010         1.163470     0.603200        0.198262  3.013874   \n",
       "2011         1.137427     0.586556        0.171240  3.373598   \n",
       "2012         1.103263     0.524470        0.110321  3.952136   \n",
       "2013         1.194840     0.599381        0.453869  4.666736   \n",
       "2014         1.220372     0.633639        0.406952  4.701184   \n",
       "\n",
       "      Price to Earnings  \n",
       "2010          20.130238  \n",
       "2011          23.340063  \n",
       "2012          23.293732  \n",
       "2013          23.802501  \n",
       "2014          25.861571  "
      ]
     },
     "execution_count": 8,
     "metadata": {},
     "output_type": "execute_result"
    }
   ],
   "source": [
    "# Creates a DataFrame to store the ratios\n",
    "\n",
    "temp = pd.DataFrame([working_capital, quick_ratio, debt_to_equity, eps, p_to_e],\\\n",
    "                    index = ['Working Capital', 'Quick Ratio', 'Debt to Equity', 'EPS', 'Price to Earnings'])\n",
    "ratios_df = temp.transpose()\n",
    "ratios_df.head()"
   ]
  },
  {
   "cell_type": "code",
   "execution_count": 30,
   "metadata": {},
   "outputs": [
    {
     "data": {
      "text/plain": [
       "Text(0, 0.5, 'EPS')"
      ]
     },
     "execution_count": 30,
     "metadata": {},
     "output_type": "execute_result"
    },
    {
     "data": {
      "image/png": "[encoded data removed]",
      "text/plain": [
       "<Figure size 432x288 with 1 Axes>"
      ]
     },
     "metadata": {
      "needs_background": "light"
     },
     "output_type": "display_data"
    }
   ],
   "source": [
    "ratios_df['EPS'].plot(color = 'cyan', linestyle = 'dashed')\n",
    "plt.title('EPS per Year')\n",
    "plt.xlabel('Year')\n",
    "plt.ylabel('EPS')"
   ]
  },
  {
   "cell_type": "code",
   "execution_count": 34,
   "metadata": {},
   "outputs": [
    {
     "data": {
      "text/plain": [
       "Text(0, 0.5, 'Working Capital Ratio')"
      ]
     },
     "execution_count": 34,
     "metadata": {},
     "output_type": "execute_result"
    },
    {
     "data": {
      "image/png": "[encoded data removed]",
      "text/plain": [
       "<Figure size 432x288 with 1 Axes>"
      ]
     },
     "metadata": {
      "needs_background": "light"
     },
     "output_type": "display_data"
    }
   ],
   "source": [
    "ratios_df['Working Capital'].plot(color = 'orange', linestyle='dotted')\n",
    "plt.title('Working Capital Ratio per Year')\n",
    "plt.xlabel('Year')\n",
    "plt.ylabel('Working Capital Ratio')"
   ]
  },
  {
   "cell_type": "code",
   "execution_count": 37,
   "metadata": {},
   "outputs": [
    {
     "data": {
      "text/plain": [
       "Text(0, 0.5, 'Quick Ratio')"
      ]
     },
     "execution_count": 37,
     "metadata": {},
     "output_type": "execute_result"
    },
    {
     "data": {
      "image/png": "[encoded data removed]",
      "text/plain": [
       "<Figure size 432x288 with 1 Axes>"
      ]
     },
     "metadata": {
      "needs_background": "light"
     },
     "output_type": "display_data"
    }
   ],
   "source": [
    "ratios_df['Quick Ratio'].plot(color = 'magenta', linestyle = '-.')\n",
    "plt.title('Quick Ratio per Year')\n",
    "plt.xlabel('Year')\n",
    "plt.ylabel('Quick Ratio')"
   ]
  },
  {
   "cell_type": "code",
   "execution_count": 44,
   "metadata": {},
   "outputs": [
    {
     "data": {
      "text/plain": [
       "Text(0, 0.5, 'Debt to Equity Ratio')"
      ]
     },
     "execution_count": 44,
     "metadata": {},
     "output_type": "execute_result"
    },
    {
     "data": {
      "image/png": "[encoded data removed]",
      "text/plain": [
       "<Figure size 432x288 with 1 Axes>"
      ]
     },
     "metadata": {
      "needs_background": "light"
     },
     "output_type": "display_data"
    }
   ],
   "source": [
    "ratios_df['Debt to Equity'].plot(color = 'green', linestyle = ':')\n",
    "plt.title('Debt to Equity Ratio per Year')\n",
    "plt.xlabel('Year')\n",
    "plt.ylabel('Debt to Equity Ratio')"
   ]
  },
  {
   "cell_type": "code",
   "execution_count": 41,
   "metadata": {},
   "outputs": [
    {
     "data": {
      "text/plain": [
       "Text(0, 0.5, 'Price to Earnings Ratio')"
      ]
     },
     "execution_count": 41,
     "metadata": {},
     "output_type": "execute_result"
    },
    {
     "data": {
      "image/png": "[encoded data removed]",
      "text/plain": [
       "<Figure size 432x288 with 1 Axes>"
      ]
     },
     "metadata": {
      "needs_background": "light"
     },
     "output_type": "display_data"
    }
   ],
   "source": [
    "ratios_df['Price to Earnings'].plot(color = 'yellow', linestyle = 'solid')\n",
    "plt.title('Price to Earnings Ratio per Year')\n",
    "plt.xlabel('Year')\n",
    "plt.ylabel('Price to Earnings Ratio')"
   ]
  },
  {
   "cell_type": "code",
   "execution_count": null,
   "metadata": {},
   "outputs": [],
   "source": []
  }
 ],
 "metadata": {
  "kernelspec": {
   "display_name": "Python 3",
   "language": "python",
   "name": "python3"
  },
  "language_info": {
   "codemirror_mode": {
    "name": "ipython",
    "version": 3
   },
   "file_extension": ".py",
   "mimetype": "text/x-python",
   "name": "python",
   "nbconvert_exporter": "python",
   "pygments_lexer": "ipython3",
   "version": "3.8.5"
  }
 },
 "nbformat": 4,
 "nbformat_minor": 4
}
